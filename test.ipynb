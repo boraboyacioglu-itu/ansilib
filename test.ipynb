{
 "cells": [
  {
   "cell_type": "markdown",
   "metadata": {},
   "source": [
    "https://en.wikipedia.org/wiki/ANSI_escape_code"
   ]
  },
  {
   "cell_type": "code",
   "execution_count": 5,
   "metadata": {},
   "outputs": [],
   "source": [
    "import AnsiLib as al\n",
    "%reload_ext autoreload\n",
    "%autoreload 2"
   ]
  },
  {
   "cell_type": "code",
   "execution_count": 6,
   "metadata": {},
   "outputs": [
    {
     "name": "stdout",
     "output_type": "stream",
     "text": [
      "\u001b[31mtest\u001b[0m\n"
     ]
    }
   ],
   "source": [
    "print(al.r('test'))"
   ]
  },
  {
   "cell_type": "code",
   "execution_count": 7,
   "metadata": {},
   "outputs": [
    {
     "name": "stdout",
     "output_type": "stream",
     "text": [
      "\u001b[1m\u001b[3m\u001b[4m\u001b[38;2;66;78;11m\u001b[47mBlabla b aaa\u001b[0m\n",
      "\n"
     ]
    }
   ],
   "source": [
    "al.prints('Blabla b', 'aaa', style=['bold', 'italic', 'underline', al.color(66, 78, 11), 'wb'], end='\\n\\n')"
   ]
  },
  {
   "cell_type": "code",
   "execution_count": 8,
   "metadata": {},
   "outputs": [
    {
     "name": "stdout",
     "output_type": "stream",
     "text": [
      "\u001b[1m\u001b[3m\u001b[34m\u001b[9mtest\u001b[0m\n"
     ]
    }
   ],
   "source": [
    "al.prints('test', style='sibx')"
   ]
  },
  {
   "cell_type": "code",
   "execution_count": 9,
   "metadata": {},
   "outputs": [
    {
     "name": "stdout",
     "output_type": "stream",
     "text": [
      "\u001b[1mtest\u001b[0m\n"
     ]
    }
   ],
   "source": [
    "s0 = al.style('bold')\n",
    "print(s0('test'))"
   ]
  },
  {
   "cell_type": "code",
   "execution_count": 10,
   "metadata": {},
   "outputs": [
    {
     "name": "stdout",
     "output_type": "stream",
     "text": [
      "\u001b[30mtest\u001b[0m\n"
     ]
    }
   ],
   "source": [
    "print(al.c.t.k('test'))"
   ]
  },
  {
   "cell_type": "code",
   "execution_count": 11,
   "metadata": {},
   "outputs": [
    {
     "name": "stdout",
     "output_type": "stream",
     "text": [
      "\u001b[37m\u001b[2m\u001b[4m\u001b[40mtest\u001b[0m\n"
     ]
    }
   ],
   "source": [
    "s1 = al.style('w', 'dim', 'underline', 'kb')\n",
    "print(s1('test'))"
   ]
  },
  {
   "cell_type": "code",
   "execution_count": 12,
   "metadata": {},
   "outputs": [
    {
     "name": "stdout",
     "output_type": "stream",
     "text": [
      "\u001b[2mtest\u001b[0m\n"
     ]
    }
   ],
   "source": [
    "dim = al.style('dim')\n",
    "print(dim('test'))"
   ]
  },
  {
   "cell_type": "code",
   "execution_count": 13,
   "metadata": {},
   "outputs": [
    {
     "data": {
      "text/plain": [
       "['reset',\n",
       " 'bold',\n",
       " 'faint',\n",
       " 'italic',\n",
       " 'underline',\n",
       " 'blink',\n",
       " 'blink_fast',\n",
       " 'reverse',\n",
       " 'conceal',\n",
       " 'crossed',\n",
       " 'double_underline',\n",
       " 'normal',\n",
       " 'no_italic',\n",
       " 'no_underline',\n",
       " 'no_blink',\n",
       " 'no_reverse',\n",
       " 'no_conceal',\n",
       " 'no_crossed',\n",
       " 'black_t0',\n",
       " 'red_t0',\n",
       " 'green_t0',\n",
       " 'yellow_t0',\n",
       " 'blue_t0',\n",
       " 'magenta_t0',\n",
       " 'cyan_t0',\n",
       " 'white_t0',\n",
       " 'default_t0',\n",
       " 'black_b0',\n",
       " 'red_b0',\n",
       " 'green_b0',\n",
       " 'yellow_b0',\n",
       " 'blue_b0',\n",
       " 'magenta_b0',\n",
       " 'cyan_b0',\n",
       " 'white_b0',\n",
       " 'default_b0',\n",
       " 'black_t1',\n",
       " 'red_t1',\n",
       " 'green_t1',\n",
       " 'yellow_t1',\n",
       " 'blue_t1',\n",
       " 'magenta_t1',\n",
       " 'cyan_t1',\n",
       " 'white_t1',\n",
       " 'black_b1',\n",
       " 'red_b1',\n",
       " 'green_b1',\n",
       " 'yellow_b1',\n",
       " 'blue_b1',\n",
       " 'magenta_b1',\n",
       " 'cyan_b1',\n",
       " 'white_b1']"
      ]
     },
     "execution_count": 13,
     "metadata": {},
     "output_type": "execute_result"
    }
   ],
   "source": [
    "al.available()"
   ]
  },
  {
   "cell_type": "code",
   "execution_count": 14,
   "metadata": {},
   "outputs": [
    {
     "name": "stdout",
     "output_type": "stream",
     "text": [
      "\u001b[48;2;76;99;156m\u001b[1m\u001b[37m<function style.<locals>.<lambda> at 0x000002BB0A2B7240> [5, 'a']\u001b[0m\n"
     ]
    }
   ],
   "source": [
    "s2 = al.style(al.color(76, 99, 156, 'bg'), 'bold', 'w')\n",
    "\n",
    "al.prints(s2, [5, 'a'], style=s2)"
   ]
  },
  {
   "cell_type": "code",
   "execution_count": 15,
   "metadata": {},
   "outputs": [
    {
     "name": "stdout",
     "output_type": "stream",
     "text": [
      "\u001b[35mtest\u001b[0m\n"
     ]
    }
   ],
   "source": [
    "print(al.c.t.m('test'))"
   ]
  },
  {
   "cell_type": "code",
   "execution_count": 16,
   "metadata": {},
   "outputs": [
    {
     "name": "stdout",
     "output_type": "stream",
     "text": [
      "\u001b[32mtest\u001b[0m\n"
     ]
    }
   ],
   "source": [
    "al.prints('test', style=al.c.t.g)"
   ]
  },
  {
   "cell_type": "code",
   "execution_count": 30,
   "metadata": {},
   "outputs": [
    {
     "name": "stdout",
     "output_type": "stream",
     "text": [
      "\u001b[1m\u001b[43m\u001b[90m\u001b[3mtest\u001b[0m\u001b[0m\u001b[0m\n"
     ]
    },
    {
     "data": {
      "text/plain": [
       "'\\x1b[1m\\x1b[43m\\x1b[90m\\x1b[3mtest\\x1b[0m\\x1b[0m\\x1b[0m'"
      ]
     },
     "execution_count": 30,
     "metadata": {},
     "output_type": "execute_result"
    }
   ],
   "source": [
    "al.style(al.s, al.c.b.y, 'kt1', 3, p=True)('test')\n",
    "al.style(al.s, al.c.b.y, 'kt1', 3, p=False)('test')"
   ]
  },
  {
   "cell_type": "code",
   "execution_count": 18,
   "metadata": {},
   "outputs": [
    {
     "name": "stdout",
     "output_type": "stream",
     "text": [
      "\u001b[38;2;25;50;100m\u001b[1m\u001b[4m\u001b[107mtest\u001b[0m\n"
     ]
    }
   ],
   "source": [
    "s1 = al.style(al.color(25,50,100), 'bold', 'underline', 'wb1')\n",
    "print(s1('test'))"
   ]
  },
  {
   "cell_type": "code",
   "execution_count": 19,
   "metadata": {},
   "outputs": [
    {
     "name": "stdout",
     "output_type": "stream",
     "text": [
      "<class 'tuple'>\n",
      "[<class 'AnsiLib.color.color'>]\n"
     ]
    }
   ],
   "source": [
    "def afunc_(*inputs):\n",
    "    print(type(inputs))\n",
    "    inputs = list(inputs)\n",
    "    for i in inputs:\n",
    "        print(inputs)\n",
    "        inputs.remove(i)\n",
    "\n",
    "afunc_(al.c)"
   ]
  },
  {
   "cell_type": "code",
   "execution_count": 45,
   "metadata": {},
   "outputs": [
    {
     "name": "stdout",
     "output_type": "stream",
     "text": [
      "AnsiLib\\utils.py:50: \u001b[1m\u001b[91merror:\u001b[0m Cannot infer type of lambda  \u001b[0m\u001b[93m[misc]\u001b[0m\n",
      "AnsiLib\\utils.py:53: \u001b[1m\u001b[91merror:\u001b[0m Name \u001b[0m\u001b[1m\"styles\"\u001b[0m already defined on line 37  \u001b[0m\u001b[93m[no-redef]\u001b[0m\n",
      "AnsiLib\\utils.py:63: \u001b[1m\u001b[91merror:\u001b[0m Argument 1 to \u001b[0m\u001b[1m\"append\"\u001b[0m of \u001b[0m\u001b[1m\"list\"\u001b[0m has incompatible type \u001b[0m\u001b[1m\"int\"\u001b[0m; expected \u001b[0m\u001b[1m\"str\"\u001b[0m  \u001b[0m\u001b[93m[arg-type]\u001b[0m\n",
      "AnsiLib\\utils.py:67: \u001b[1m\u001b[91merror:\u001b[0m \u001b[0m\u001b[1m\"Tuple[Union[int, Callable[[str, bool], str], str], ...]\"\u001b[0m has no attribute \u001b[0m\u001b[1m\"remove\"\u001b[0m  \u001b[0m\u001b[93m[attr-defined]\u001b[0m\n",
      "AnsiLib\\utils.py:70: \u001b[1m\u001b[91merror:\u001b[0m Cannot infer type of lambda  \u001b[0m\u001b[93m[misc]\u001b[0m\n",
      "AnsiLib\\utils.py:70: \u001b[1m\u001b[91merror:\u001b[0m Too few arguments  \u001b[0m\u001b[93m[call-arg]\u001b[0m\n",
      "AnsiLib\\utils.py:83: \u001b[1m\u001b[91merror:\u001b[0m Argument 1 to \u001b[0m\u001b[1m\"append\"\u001b[0m of \u001b[0m\u001b[1m\"list\"\u001b[0m has incompatible type \u001b[0m\u001b[1m\"int\"\u001b[0m; expected \u001b[0m\u001b[1m\"str\"\u001b[0m  \u001b[0m\u001b[93m[arg-type]\u001b[0m\n",
      "AnsiLib\\utils.py:85: \u001b[1m\u001b[91merror:\u001b[0m Argument 1 has incompatible type \u001b[0m\u001b[1m\"str\"\u001b[0m; expected \u001b[0m\u001b[1m\"int\"\u001b[0m  \u001b[0m\u001b[93m[arg-type]\u001b[0m\n",
      "AnsiLib\\utils.py:88: \u001b[1m\u001b[91merror:\u001b[0m Cannot infer type of lambda  \u001b[0m\u001b[93m[misc]\u001b[0m\n",
      "AnsiLib\\utils.py:88: \u001b[1m\u001b[91merror:\u001b[0m Incompatible return value type (got \u001b[0m\u001b[1m\"Callable[[Any, Any], Optional[str]]\"\u001b[0m, expected \u001b[0m\u001b[1m\"Callable[[str, bool], str]\"\u001b[0m)  \u001b[0m\u001b[93m[return-value]\u001b[0m\n",
      "AnsiLib\\AnsiLib.py:116: \u001b[1m\u001b[91merror:\u001b[0m Too few arguments  \u001b[0m\u001b[93m[call-arg]\u001b[0m\n",
      "\u001b[1m\u001b[91mFound 11 errors in 2 files (checked 1 source file)\u001b[0m\n"
     ]
    }
   ],
   "source": [
    "!mypy AnsiLib/AnsiLib.py --python-version 3.8"
   ]
  }
 ],
 "metadata": {
  "kernelspec": {
   "display_name": ".venv",
   "language": "python",
   "name": "python3"
  },
  "language_info": {
   "codemirror_mode": {
    "name": "ipython",
    "version": 3
   },
   "file_extension": ".py",
   "mimetype": "text/x-python",
   "name": "python",
   "nbconvert_exporter": "python",
   "pygments_lexer": "ipython3",
   "version": "3.12.0"
  }
 },
 "nbformat": 4,
 "nbformat_minor": 2
}
