{
 "cells": [
  {
   "cell_type": "markdown",
   "metadata": {},
   "source": [
    "https://en.wikipedia.org/wiki/ANSI_escape_code"
   ]
  },
  {
   "cell_type": "code",
   "execution_count": 1,
   "metadata": {},
   "outputs": [],
   "source": [
    "import AnsiLib as al\n",
    "%reload_ext autoreload\n",
    "%autoreload 2"
   ]
  },
  {
   "cell_type": "code",
   "execution_count": 2,
   "metadata": {},
   "outputs": [
    {
     "name": "stdout",
     "output_type": "stream",
     "text": [
      "\u001b[31mbora\u001b[0m\n"
     ]
    }
   ],
   "source": [
    "print(al.r('bora'))"
   ]
  },
  {
   "cell_type": "code",
   "execution_count": 5,
   "metadata": {},
   "outputs": [
    {
     "name": "stdout",
     "output_type": "stream",
     "text": [
      "\u001b[1m\u001b[3m\u001b[4m\u001b[38;2;66;78;11mBlabla b aaa\u001b[0m\n",
      "\n"
     ]
    }
   ],
   "source": [
    "al.prints('Blabla b', 'aaa', style=['bold', 'italic', 'underline', al.color(66, 78, 11)], end='\\n\\n')"
   ]
  },
  {
   "cell_type": "code",
   "execution_count": 3,
   "metadata": {},
   "outputs": [
    {
     "name": "stdout",
     "output_type": "stream",
     "text": [
      "\u001b[30mbora\u001b[0m\n"
     ]
    }
   ],
   "source": [
    "print(al.c.t.k('bora'))"
   ]
  },
  {
   "cell_type": "code",
   "execution_count": 4,
   "metadata": {},
   "outputs": [
    {
     "name": "stdout",
     "output_type": "stream",
     "text": [
      "\u001b[37m\u001b[2m\u001b[4m\u001b[40mBora\u001b[0m\n"
     ]
    }
   ],
   "source": [
    "s1 = al.style('w', 'dim', 'underline', 'kb')\n",
    "print(s1('bora'))"
   ]
  },
  {
   "cell_type": "code",
   "execution_count": 17,
   "metadata": {},
   "outputs": [
    {
     "name": "stdout",
     "output_type": "stream",
     "text": [
      "\u001b[2mBora\u001b[0m\n"
     ]
    }
   ],
   "source": [
    "dim = al.style('dim')\n",
    "print(dim('Bora'))"
   ]
  },
  {
   "cell_type": "code",
   "execution_count": 5,
   "metadata": {},
   "outputs": [
    {
     "data": {
      "text/plain": [
       "['reset',\n",
       " 'bold',\n",
       " 'faint',\n",
       " 'italic',\n",
       " 'underline',\n",
       " 'blink',\n",
       " 'blink_fast',\n",
       " 'reverse',\n",
       " 'conceal',\n",
       " 'crossed',\n",
       " 'double_underline',\n",
       " 'normal',\n",
       " 'no_italic',\n",
       " 'no_underline',\n",
       " 'no_blink',\n",
       " 'no_reverse',\n",
       " 'no_conceal',\n",
       " 'no_crossed',\n",
       " 'black_t0',\n",
       " 'red_t0',\n",
       " 'green_t0',\n",
       " 'yellow_t0',\n",
       " 'blue_t0',\n",
       " 'magenta_t0',\n",
       " 'cyan_t0',\n",
       " 'white_t0',\n",
       " 'default_t0',\n",
       " 'black_b0',\n",
       " 'red_b0',\n",
       " 'green_b0',\n",
       " 'yellow_b0',\n",
       " 'blue_b0',\n",
       " 'magenta_b0',\n",
       " 'cyan_b0',\n",
       " 'white_b0',\n",
       " 'default_b0',\n",
       " 'black_t1',\n",
       " 'red_t1',\n",
       " 'green_t1',\n",
       " 'yellow_t1',\n",
       " 'blue_t1',\n",
       " 'magenta_t1',\n",
       " 'cyan_t1',\n",
       " 'white_t1',\n",
       " 'black_b1',\n",
       " 'red_b1',\n",
       " 'green_b1',\n",
       " 'yellow_b1',\n",
       " 'blue_b1',\n",
       " 'magenta_b1',\n",
       " 'cyan_b1',\n",
       " 'white_b1']"
      ]
     },
     "execution_count": 5,
     "metadata": {},
     "output_type": "execute_result"
    }
   ],
   "source": [
    "al.available()"
   ]
  },
  {
   "cell_type": "code",
   "execution_count": 11,
   "metadata": {},
   "outputs": [
    {
     "name": "stdout",
     "output_type": "stream",
     "text": [
      "\u001b[35mBora\u001b[0m\n"
     ]
    }
   ],
   "source": [
    "print(al.c.t.m('Bora'))"
   ]
  },
  {
   "cell_type": "code",
   "execution_count": 4,
   "metadata": {},
   "outputs": [
    {
     "name": "stdout",
     "output_type": "stream",
     "text": [
      "\u001b[1mBora\u001b[0m\n"
     ]
    }
   ],
   "source": [
    "print(al.bold('Bora'))"
   ]
  },
  {
   "cell_type": "code",
   "execution_count": 9,
   "metadata": {},
   "outputs": [
    {
     "name": "stdout",
     "output_type": "stream",
     "text": [
      "\u001b[38;2;25;50;100m\u001b[1m\u001b[4mBora\u001b[0m\n"
     ]
    }
   ],
   "source": [
    "s1 = al.style(al.color(25,50,100), 'bold', 'underline')\n",
    "print(s1('Bora'))"
   ]
  }
 ],
 "metadata": {
  "kernelspec": {
   "display_name": ".venv",
   "language": "python",
   "name": "python3"
  },
  "language_info": {
   "codemirror_mode": {
    "name": "ipython",
    "version": 3
   },
   "file_extension": ".py",
   "mimetype": "text/x-python",
   "name": "python",
   "nbconvert_exporter": "python",
   "pygments_lexer": "ipython3",
   "version": "3.12.0"
  }
 },
 "nbformat": 4,
 "nbformat_minor": 2
}
