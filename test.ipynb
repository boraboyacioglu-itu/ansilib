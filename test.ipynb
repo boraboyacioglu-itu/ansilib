{
 "cells": [
  {
   "cell_type": "markdown",
   "metadata": {},
   "source": [
    "https://en.wikipedia.org/wiki/ANSI_escape_code"
   ]
  },
  {
   "cell_type": "code",
   "execution_count": 11,
   "metadata": {},
   "outputs": [],
   "source": [
    "import AnsiLib as al\n",
    "%reload_ext autoreload\n",
    "%autoreload 2"
   ]
  },
  {
   "cell_type": "code",
   "execution_count": 12,
   "metadata": {},
   "outputs": [
    {
     "name": "stdout",
     "output_type": "stream",
     "text": [
      "\u001b[31mtest\u001b[0m\n"
     ]
    }
   ],
   "source": [
    "print(al.r('test'))"
   ]
  },
  {
   "cell_type": "code",
   "execution_count": 13,
   "metadata": {},
   "outputs": [
    {
     "name": "stdout",
     "output_type": "stream",
     "text": [
      "\u001b[1m\u001b[3m\u001b[4m\u001b[38;2;66;78;11m\u001b[47mBlabla b aaa\u001b[0m\n",
      "\n"
     ]
    }
   ],
   "source": [
    "al.prints('Blabla b', 'aaa', s=['bold', 'italic', 'underline', al.color(66, 78, 11), 'wb'], end='\\n\\n')"
   ]
  },
  {
   "cell_type": "code",
   "execution_count": 14,
   "metadata": {},
   "outputs": [
    {
     "name": "stdout",
     "output_type": "stream",
     "text": [
      "\u001b[1m\u001b[3m\u001b[34m\u001b[9mtest\u001b[0m\n"
     ]
    }
   ],
   "source": [
    "al.prints('test', s='sibx')"
   ]
  },
  {
   "cell_type": "code",
   "execution_count": 15,
   "metadata": {},
   "outputs": [
    {
     "name": "stdout",
     "output_type": "stream",
     "text": [
      "\u001b[1mtest\u001b[0m\n"
     ]
    }
   ],
   "source": [
    "s0 = al.style('bold')\n",
    "print(s0('test'))"
   ]
  },
  {
   "cell_type": "code",
   "execution_count": 16,
   "metadata": {},
   "outputs": [
    {
     "name": "stdout",
     "output_type": "stream",
     "text": [
      "\u001b[30mtest\u001b[0m\n"
     ]
    }
   ],
   "source": [
    "print(al.c.t.k('test'))"
   ]
  },
  {
   "cell_type": "code",
   "execution_count": 17,
   "metadata": {},
   "outputs": [
    {
     "name": "stdout",
     "output_type": "stream",
     "text": [
      "\u001b[37m\u001b[2m\u001b[4m\u001b[40mtest\u001b[0m\n"
     ]
    }
   ],
   "source": [
    "s1 = al.style('w', 'dim', 'underline', 'kb')\n",
    "print(s1('test'))"
   ]
  },
  {
   "cell_type": "code",
   "execution_count": 18,
   "metadata": {},
   "outputs": [
    {
     "name": "stdout",
     "output_type": "stream",
     "text": [
      "\u001b[2mtest\u001b[0m\n"
     ]
    }
   ],
   "source": [
    "dim = al.style('dim')\n",
    "print(dim('test'))"
   ]
  },
  {
   "cell_type": "code",
   "execution_count": 19,
   "metadata": {},
   "outputs": [
    {
     "data": {
      "text/plain": [
       "['reset',\n",
       " 'bold',\n",
       " 'faint',\n",
       " 'italic',\n",
       " 'underline',\n",
       " 'blink',\n",
       " 'blink_fast',\n",
       " 'reverse',\n",
       " 'conceal',\n",
       " 'crossed',\n",
       " 'double_underline',\n",
       " 'normal',\n",
       " 'no_italic',\n",
       " 'no_underline',\n",
       " 'no_blink',\n",
       " 'no_reverse',\n",
       " 'no_conceal',\n",
       " 'no_crossed',\n",
       " 'black_t0',\n",
       " 'red_t0',\n",
       " 'green_t0',\n",
       " 'yellow_t0',\n",
       " 'blue_t0',\n",
       " 'magenta_t0',\n",
       " 'cyan_t0',\n",
       " 'white_t0',\n",
       " 'default_t0',\n",
       " 'black_b0',\n",
       " 'red_b0',\n",
       " 'green_b0',\n",
       " 'yellow_b0',\n",
       " 'blue_b0',\n",
       " 'magenta_b0',\n",
       " 'cyan_b0',\n",
       " 'white_b0',\n",
       " 'default_b0',\n",
       " 'black_t1',\n",
       " 'red_t1',\n",
       " 'green_t1',\n",
       " 'yellow_t1',\n",
       " 'blue_t1',\n",
       " 'magenta_t1',\n",
       " 'cyan_t1',\n",
       " 'white_t1',\n",
       " 'black_b1',\n",
       " 'red_b1',\n",
       " 'green_b1',\n",
       " 'yellow_b1',\n",
       " 'blue_b1',\n",
       " 'magenta_b1',\n",
       " 'cyan_b1',\n",
       " 'white_b1']"
      ]
     },
     "execution_count": 19,
     "metadata": {},
     "output_type": "execute_result"
    }
   ],
   "source": [
    "al.available()"
   ]
  },
  {
   "cell_type": "code",
   "execution_count": 20,
   "metadata": {},
   "outputs": [
    {
     "name": "stdout",
     "output_type": "stream",
     "text": [
      "\u001b[48;2;76;99;156m\u001b[1m\u001b[37m<function style.<locals>.<lambda> at 0x10a785170> [5, 'a']\u001b[0m\n"
     ]
    }
   ],
   "source": [
    "s2 = al.style(al.color(76, 99, 156, 'bg'), 'bold', 'w')\n",
    "\n",
    "al.prints(s2, [5, 'a'], s=s2)"
   ]
  },
  {
   "cell_type": "code",
   "execution_count": 21,
   "metadata": {},
   "outputs": [
    {
     "name": "stdout",
     "output_type": "stream",
     "text": [
      "\u001b[35mtest\u001b[0m\n"
     ]
    }
   ],
   "source": [
    "print(al.c.t.m('test'))"
   ]
  },
  {
   "cell_type": "code",
   "execution_count": 22,
   "metadata": {},
   "outputs": [
    {
     "name": "stdout",
     "output_type": "stream",
     "text": [
      "\u001b[32mtest\u001b[0m\n"
     ]
    }
   ],
   "source": [
    "al.prints('test', s=al.c.t.g)"
   ]
  },
  {
   "cell_type": "code",
   "execution_count": 23,
   "metadata": {},
   "outputs": [
    {
     "name": "stdout",
     "output_type": "stream",
     "text": [
      "\u001b[90m\u001b[3mtest\u001b[0m\n"
     ]
    },
    {
     "data": {
      "text/plain": [
       "'\\x1b[1m\\x1b[43m\\x1b[90m\\x1b[3mtest\\x1b[0m\\x1b[0m\\x1b[0m'"
      ]
     },
     "execution_count": 23,
     "metadata": {},
     "output_type": "execute_result"
    }
   ],
   "source": [
    "al.style(al.s, al.c.b.y, 'kt1', 3, p=True)('test')\n",
    "al.style(al.s, al.c.b.y, 'kt1', 3, p=False)('test')"
   ]
  },
  {
   "cell_type": "code",
   "execution_count": 24,
   "metadata": {},
   "outputs": [
    {
     "name": "stdout",
     "output_type": "stream",
     "text": [
      "\u001b[38;2;25;50;100m\u001b[1m\u001b[4m\u001b[107mtest\u001b[0m\n"
     ]
    }
   ],
   "source": [
    "s1 = al.style(al.color(25,50,100), 'bold', 'underline', 'wb1')\n",
    "print(s1('test'))"
   ]
  },
  {
   "cell_type": "code",
   "execution_count": 25,
   "metadata": {},
   "outputs": [
    {
     "name": "stdout",
     "output_type": "stream",
     "text": [
      "<class 'tuple'>\n",
      "[<class 'AnsiLib.color.color'>]\n"
     ]
    }
   ],
   "source": [
    "def afunc_(*inputs):\n",
    "    print(type(inputs))\n",
    "    inputs = list(inputs)\n",
    "    for i in inputs:\n",
    "        print(inputs)\n",
    "        inputs.remove(i)\n",
    "\n",
    "afunc_(al.c)"
   ]
  },
  {
   "cell_type": "code",
   "execution_count": 7,
   "metadata": {},
   "outputs": [
    {
     "name": "stdout",
     "output_type": "stream",
     "text": [
      "AnsiLib/utils.py:50: \u001b[1m\u001b[31merror:\u001b[m Cannot infer type of lambda  \u001b[m\u001b[33m[misc]\u001b[m\n",
      "AnsiLib/utils.py:54: \u001b[1m\u001b[31merror:\u001b[m Name \u001b[m\u001b[1m\"styles\"\u001b[m already defined on line 37  \u001b[m\u001b[33m[no-redef]\u001b[m\n",
      "AnsiLib/utils.py:63: \u001b[1m\u001b[31merror:\u001b[m Unsupported operand types for + (\u001b[m\u001b[1m\"str\"\u001b[m and \u001b[m\u001b[1m\"int\"\u001b[m)  \u001b[m\u001b[33m[operator]\u001b[m\n",
      "AnsiLib/utils.py:68: \u001b[1m\u001b[31merror:\u001b[m \u001b[m\u001b[1m\"Tuple[Union[int, Callable[[str, bool], str], str], ...]\"\u001b[m has no attribute \u001b[m\u001b[1m\"remove\"\u001b[m  \u001b[m\u001b[33m[attr-defined]\u001b[m\n",
      "AnsiLib/utils.py:71: \u001b[1m\u001b[31merror:\u001b[m Name \u001b[m\u001b[1m\"func\"\u001b[m already defined on line 50  \u001b[m\u001b[33m[no-redef]\u001b[m\n",
      "AnsiLib/utils.py:71: \u001b[1m\u001b[31merror:\u001b[m Too few arguments  \u001b[m\u001b[33m[call-arg]\u001b[m\n",
      "AnsiLib/utils.py:90: \u001b[1m\u001b[31merror:\u001b[m Name \u001b[m\u001b[1m\"func\"\u001b[m already defined on line 50  \u001b[m\u001b[33m[no-redef]\u001b[m\n",
      "AnsiLib/AnsiLib.py:7: \u001b[1m\u001b[31merror:\u001b[m Incompatible import of \u001b[m\u001b[1m\"Literal\"\u001b[m (imported name has type \u001b[m\u001b[1m\"typing_extensions._SpecialForm\"\u001b[m, local name has type \u001b[m\u001b[1m\"<typing special form>\"\u001b[m)  \u001b[m\u001b[33m[assignment]\u001b[m\n",
      "AnsiLib/AnsiLib.py:113: \u001b[1m\u001b[31merror:\u001b[m List or tuple expected as variadic arguments  \u001b[m\u001b[33m[misc]\u001b[m\n",
      "AnsiLib/AnsiLib.py:122: \u001b[1m\u001b[31merror:\u001b[m Unexpected keyword argument \u001b[m\u001b[1m\"p\"\u001b[m  \u001b[m\u001b[33m[call-arg]\u001b[m\n",
      "\u001b[1m\u001b[31mFound 10 errors in 2 files (checked 1 source file)\u001b[m\n"
     ]
    }
   ],
   "source": [
    "!mypy AnsiLib/AnsiLib.py --python-version 3.8"
   ]
  }
 ],
 "metadata": {
  "kernelspec": {
   "display_name": ".venv",
   "language": "python",
   "name": "python3"
  },
  "language_info": {
   "codemirror_mode": {
    "name": "ipython",
    "version": 3
   },
   "file_extension": ".py",
   "mimetype": "text/x-python",
   "name": "python",
   "nbconvert_exporter": "python",
   "pygments_lexer": "ipython3",
   "version": "3.7.17"
  }
 },
 "nbformat": 4,
 "nbformat_minor": 2
}
